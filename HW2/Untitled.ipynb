{
 "cells": [
  {
   "cell_type": "code",
   "execution_count": 1,
   "id": "4301e830-e045-4166-a2a7-08549b1d89fb",
   "metadata": {},
   "outputs": [],
   "source": [
    "import numpy as np\n",
    "import matplotlib.pyplot as plt"
   ]
  },
  {
   "cell_type": "markdown",
   "id": "72aed286-77f6-46eb-a0f2-c935aeff8f77",
   "metadata": {},
   "source": [
    "# Problem 5"
   ]
  },
  {
   "cell_type": "code",
   "execution_count": 23,
   "id": "d466de4d-5cb2-4a2e-bb3f-21ea78c0d63a",
   "metadata": {},
   "outputs": [],
   "source": [
    "def I(a,N=100):\n",
    "    temp = 0\n",
    "    for n in range(0,N+1):\n",
    "        temp += 1/(n**2 + a**2)\n",
    "    return temp\n",
    "\n",
    "def I_(a):\n",
    "    return 1/2/a**2 + np.pi/2/a/np.tanh(np.pi*a)\n",
    "    # return -1/a**2 + np.pi/2/a*(1 - np.exp(-np.pi*a)/np.tanh(np.pi*a))\n"
   ]
  },
  {
   "cell_type": "code",
   "execution_count": 26,
   "id": "3cccab26-b452-425d-9590-35c5397fb4d2",
   "metadata": {},
   "outputs": [
    {
     "name": "stdout",
     "output_type": "stream",
     "text": [
      "2.076574052468755\n",
      "2.0766740474685808\n"
     ]
    }
   ],
   "source": [
    "a = 1\n",
    "print(I(a,N=10000))\n",
    "print(I_(a))"
   ]
  },
  {
   "cell_type": "code",
   "execution_count": 49,
   "id": "18996ee3-9be4-46c6-baa4-998f3828b6d9",
   "metadata": {},
   "outputs": [],
   "source": [
    "def I2(a,N=100):\n",
    "    temp = 0\n",
    "    for n in range(1,N+1):\n",
    "        temp += (-1)**n/(n**2 + a**2)\n",
    "    return temp\n",
    "\n",
    "def I2_(a):\n",
    "    p = np.exp(np.pi*a)\n",
    "    n = np.exp(-np.pi*a)\n",
    "    return -1/2/a**2 + np.pi/2/a*n*(1 + (p+n)/(p-n))\n"
   ]
  },
  {
   "cell_type": "code",
   "execution_count": 50,
   "id": "1ab9e496-8031-4ec7-a23e-372d5e18303d",
   "metadata": {},
   "outputs": [
    {
     "name": "stdout",
     "output_type": "stream",
     "text": [
      "-0.3639849730094321\n",
      "-0.3639854725089334\n"
     ]
    }
   ],
   "source": [
    "a = 1\n",
    "print(I2(a,N=1000))\n",
    "print(I2_(a))"
   ]
  },
  {
   "cell_type": "markdown",
   "id": "52abc13f-6e66-433f-838f-28ba345acb03",
   "metadata": {},
   "source": [
    "# Problem 6"
   ]
  },
  {
   "cell_type": "code",
   "execution_count": 56,
   "id": "86db15d4-a63f-4c7b-a530-39fa2e38bf0f",
   "metadata": {},
   "outputs": [],
   "source": [
    "from scipy.integrate import quad\n",
    "from scipy.special import factorial"
   ]
  },
  {
   "cell_type": "code",
   "execution_count": 65,
   "id": "e9d9c871-30a7-489f-82bd-2808995b8717",
   "metadata": {},
   "outputs": [],
   "source": [
    "def I(u,a):\n",
    "    return np.exp(-a*u)*np.log(u)\n",
    "\n",
    "def I_(x,a,N):\n",
    "    u = a*x\n",
    "    return np.exp(-u)/u*(1 + x*np.sum([(-1)**n*factorial(n)/u**(n+1) for n in range(0,N+1)]))\n",
    "    "
   ]
  },
  {
   "cell_type": "code",
   "execution_count": 71,
   "id": "e27348d8-74cc-46e9-972d-06905612f961",
   "metadata": {},
   "outputs": [
    {
     "name": "stdout",
     "output_type": "stream",
     "text": [
      "0.0\n",
      "\n",
      "0\n",
      "0.0\n",
      "5\n",
      "0.0\n",
      "10\n",
      "0.0\n",
      "15\n",
      "0.0\n",
      "20\n",
      "0.0\n",
      "25\n",
      "0.0\n",
      "30\n",
      "0.0\n",
      "35\n",
      "0.0\n",
      "40\n",
      "0.0\n",
      "45\n",
      "0.0\n",
      "50\n",
      "0.0\n",
      "55\n",
      "0.0\n",
      "60\n",
      "0.0\n",
      "65\n",
      "0.0\n",
      "70\n",
      "0.0\n",
      "75\n",
      "0.0\n",
      "80\n",
      "0.0\n",
      "85\n",
      "0.0\n",
      "90\n",
      "0.0\n",
      "95\n",
      "0.0\n"
     ]
    }
   ],
   "source": [
    "x = 1000\n",
    "a = 1\n",
    "num = quad(I,x,np.inf,args=(a,))[0]\n",
    "print(num)\n",
    "print()\n",
    "for N in range(0,100,5):\n",
    "    print(N)\n",
    "    print(I_(x,a,N=N)-num)"
   ]
  },
  {
   "cell_type": "code",
   "execution_count": null,
   "id": "11f02cf8-8e72-426c-b953-4bca3a6219d5",
   "metadata": {},
   "outputs": [],
   "source": []
  }
 ],
 "metadata": {
  "kernelspec": {
   "display_name": "Python 3 (ipykernel)",
   "language": "python",
   "name": "python3"
  },
  "language_info": {
   "codemirror_mode": {
    "name": "ipython",
    "version": 3
   },
   "file_extension": ".py",
   "mimetype": "text/x-python",
   "name": "python",
   "nbconvert_exporter": "python",
   "pygments_lexer": "ipython3",
   "version": "3.9.17"
  }
 },
 "nbformat": 4,
 "nbformat_minor": 5
}
