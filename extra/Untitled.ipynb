{
 "cells": [
  {
   "cell_type": "code",
   "execution_count": 1,
   "id": "00a9f2c2-a371-4b0a-aacb-b814e0dec6bf",
   "metadata": {},
   "outputs": [],
   "source": [
    "import sympy as sp"
   ]
  },
  {
   "cell_type": "code",
   "execution_count": 38,
   "id": "09d7cdf1-f848-4960-ac26-83cebc27ed32",
   "metadata": {},
   "outputs": [
    {
     "data": {
      "text/latex": [
       "$\\displaystyle - 2 r x \\left(1 - x^{2}\\right)^{r} f{\\left(x \\right)} + \\left(1 - x^{2}\\right)^{r + 1} \\frac{d}{d x} f{\\left(x \\right)}$"
      ],
      "text/plain": [
       "-2*r*x*(1 - x**2)**r*f(x) + (1 - x**2)**(r + 1)*Derivative(f(x), x)"
      ]
     },
     "metadata": {},
     "output_type": "display_data"
    },
    {
     "data": {
      "text/latex": [
       "$\\displaystyle \\frac{2 x \\left(1 - x^{2}\\right)^{r + 1} \\left(r + 1\\right) \\frac{d}{d x} f{\\left(x \\right)} - \\left(1 - x^{2}\\right)^{r + 2} \\frac{d^{2}}{d x^{2}} f{\\left(x \\right)}}{x^{2} - 1}$"
      ],
      "text/plain": [
       "(2*x*(1 - x**2)**(r + 1)*(r + 1)*Derivative(f(x), x) - (1 - x**2)**(r + 2)*Derivative(f(x), (x, 2)))/(x**2 - 1)"
      ]
     },
     "metadata": {},
     "output_type": "display_data"
    },
    {
     "data": {
      "text/latex": [
       "$\\displaystyle 2 r \\left(1 - x^{2}\\right)^{r - 1} \\cdot \\left(2 r x^{2} \\frac{d}{d x} f{\\left(x \\right)} + \\left(x^{2} - 1\\right) \\left(x \\frac{d^{2}}{d x^{2}} f{\\left(x \\right)} + \\frac{d}{d x} f{\\left(x \\right)}\\right)\\right)$"
      ],
      "text/plain": [
       "2*r*(1 - x**2)**(r - 1)*(2*r*x**2*Derivative(f(x), x) + (x**2 - 1)*(x*Derivative(f(x), (x, 2)) + Derivative(f(x), x)))"
      ]
     },
     "metadata": {},
     "output_type": "display_data"
    }
   ],
   "source": [
    "x,r,lam,m = sp.symbols(r'x r \\lambda m',real=True)\n",
    "f   = sp.Function(r'f')\n",
    "P = (1-x**2)**r*f(x)\n",
    "\n",
    "factor1 = (1-x**2)*P.diff(x)\n",
    "display(factor1.simplify())\n",
    "\n",
    "factor2 = ((1-x**2)**(r+1)*f(x).diff(x)).diff(x)\n",
    "display(factor2.simplify())\n",
    "\n",
    "factor3 = (-2*r*x*(1-x**2)**r*f(x).diff(x)).diff(x)\n",
    "display(factor3.simplify())"
   ]
  },
  {
   "cell_type": "code",
   "execution_count": null,
   "id": "01013bfd-e4cc-4b5e-9872-78ca8dfbcf84",
   "metadata": {},
   "outputs": [],
   "source": []
  },
  {
   "cell_type": "code",
   "execution_count": null,
   "id": "e4f9c2c5-d242-4b0a-8ea3-f22eb92018cc",
   "metadata": {},
   "outputs": [],
   "source": []
  },
  {
   "cell_type": "code",
   "execution_count": null,
   "id": "dea20ce9-369b-4433-9375-a5b83fd786af",
   "metadata": {},
   "outputs": [],
   "source": []
  }
 ],
 "metadata": {
  "kernelspec": {
   "display_name": "Python 3 (ipykernel)",
   "language": "python",
   "name": "python3"
  },
  "language_info": {
   "codemirror_mode": {
    "name": "ipython",
    "version": 3
   },
   "file_extension": ".py",
   "mimetype": "text/x-python",
   "name": "python",
   "nbconvert_exporter": "python",
   "pygments_lexer": "ipython3",
   "version": "3.10.12"
  }
 },
 "nbformat": 4,
 "nbformat_minor": 5
}
