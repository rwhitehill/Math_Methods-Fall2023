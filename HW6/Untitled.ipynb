{
 "cells": [
  {
   "cell_type": "code",
   "execution_count": 1,
   "id": "1200157b-5b95-49d6-8653-7b8e4fa6b134",
   "metadata": {},
   "outputs": [],
   "source": [
    "import numpy as np\n",
    "from scipy.integrate import quad\n",
    "import matplotlib.pyplot as plt"
   ]
  },
  {
   "cell_type": "code",
   "execution_count": 2,
   "id": "6855fff6-6010-4be0-b986-a040f15c52b1",
   "metadata": {},
   "outputs": [],
   "source": [
    "def I(s):\n",
    "    return quad(lambda x: np.exp(-s**2/x-x),0,np.inf)[0]"
   ]
  },
  {
   "cell_type": "code",
   "execution_count": 9,
   "id": "c447d1e8-4ab1-45a3-bbf8-3545d6361a06",
   "metadata": {},
   "outputs": [],
   "source": [
    "s = np.linspace(2,120)\n",
    "I1 = np.array([I(_) for _ in s])\n",
    "I2 = np.exp(-2*s)*np.sqrt(np.pi*s)"
   ]
  },
  {
   "cell_type": "code",
   "execution_count": 10,
   "id": "042483e2-c299-4013-b5e1-139a24cd9c0e",
   "metadata": {},
   "outputs": [
    {
     "data": {
      "text/plain": [
       "[<matplotlib.lines.Line2D at 0x7fbd0ebc7f40>]"
      ]
     },
     "execution_count": 10,
     "metadata": {},
     "output_type": "execute_result"
    },
    {
     "data": {
      "image/png": "[encoded data removed]",
      "text/plain": [
       "<Figure size 640x480 with 1 Axes>"
      ]
     },
     "metadata": {},
     "output_type": "display_data"
    }
   ],
   "source": [
    "plt.plot(s,I1-I2)"
   ]
  },
  {
   "cell_type": "code",
   "execution_count": 13,
   "id": "adfd6986-69d1-41ec-835a-685b21cb4713",
   "metadata": {},
   "outputs": [
    {
     "data": {
      "text/plain": [
       "4.0811798385220754e-13"
      ]
     },
     "execution_count": 13,
     "metadata": {},
     "output_type": "execute_result"
    }
   ],
   "source": [
    "quad(lambda t: t**(1/4)/(1+t**2),0,np.inf)[0] - np.pi/2/np.sin(5*np.pi/8)"
   ]
  },
  {
   "cell_type": "code",
   "execution_count": 14,
   "id": "80d89c2b-0f16-402b-b5a1-3131156c8e72",
   "metadata": {},
   "outputs": [
    {
     "data": {
      "text/plain": [
       "0.9238795325112867"
      ]
     },
     "execution_count": 14,
     "metadata": {},
     "output_type": "execute_result"
    }
   ],
   "source": [
    "np.sin(5*np.pi/8)"
   ]
  },
  {
   "cell_type": "code",
   "execution_count": 11,
   "id": "ded06897-3d7e-4edd-baa3-a7431cb3f0b1",
   "metadata": {},
   "outputs": [
    {
     "data": {
      "text/plain": [
       "0.9238795325112867"
      ]
     },
     "execution_count": 11,
     "metadata": {},
     "output_type": "execute_result"
    }
   ],
   "source": [
    "np.sin(5*np.pi/8)"
   ]
  },
  {
   "cell_type": "code",
   "execution_count": 12,
   "id": "752da961-66c6-4360-93e9-3bb0858bdc4d",
   "metadata": {},
   "outputs": [
    {
     "data": {
      "text/plain": [
       "0.9238795325112867"
      ]
     },
     "execution_count": 12,
     "metadata": {},
     "output_type": "execute_result"
    }
   ],
   "source": [
    "np.sin(3*np.pi/8)"
   ]
  },
  {
   "cell_type": "code",
   "execution_count": 13,
   "id": "f091e085-d6b1-491d-bde6-9fbbc8e5466e",
   "metadata": {},
   "outputs": [
    {
     "data": {
      "text/plain": [
       "0.9238795325112867"
      ]
     },
     "execution_count": 13,
     "metadata": {},
     "output_type": "execute_result"
    }
   ],
   "source": [
    "np.sqrt(0.5*(1 + 1/np.sqrt(2)))"
   ]
  },
  {
   "cell_type": "code",
   "execution_count": null,
   "id": "6b3ec6dc-bbba-4406-bc68-19115fff1700",
   "metadata": {},
   "outputs": [],
   "source": []
  }
 ],
 "metadata": {
  "kernelspec": {
   "display_name": "Python 3 (ipykernel)",
   "language": "python",
   "name": "python3"
  },
  "language_info": {
   "codemirror_mode": {
    "name": "ipython",
    "version": 3
   },
   "file_extension": ".py",
   "mimetype": "text/x-python",
   "name": "python",
   "nbconvert_exporter": "python",
   "pygments_lexer": "ipython3",
   "version": "3.10.12"
  }
 },
 "nbformat": 4,
 "nbformat_minor": 5
}
