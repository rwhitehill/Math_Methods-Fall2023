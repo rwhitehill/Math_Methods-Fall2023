{
 "cells": [
  {
   "cell_type": "code",
   "execution_count": 1,
   "id": "1200157b-5b95-49d6-8653-7b8e4fa6b134",
   "metadata": {},
   "outputs": [],
   "source": [
    "import numpy as np\n",
    "from scipy.integrate import quad\n",
    "import matplotlib.pyplot as plt"
   ]
  },
  {
   "cell_type": "code",
   "execution_count": 2,
   "id": "6855fff6-6010-4be0-b986-a040f15c52b1",
   "metadata": {},
   "outputs": [],
   "source": [
    "def I(s):\n",
    "    return quad(lambda x: np.exp(s*(x-x**2)),1,np.inf)[0]"
   ]
  },
  {
   "cell_type": "code",
   "execution_count": 3,
   "id": "c447d1e8-4ab1-45a3-bbf8-3545d6361a06",
   "metadata": {},
   "outputs": [],
   "source": [
    "s = np.linspace(1,100)\n",
    "I1 = np.array([I(_) for _ in s])\n",
    "I2 = 1/s"
   ]
  },
  {
   "cell_type": "code",
   "execution_count": 4,
   "id": "042483e2-c299-4013-b5e1-139a24cd9c0e",
   "metadata": {},
   "outputs": [
    {
     "data": {
      "text/plain": [
       "[<matplotlib.lines.Line2D at 0x12792ffa0>]"
      ]
     },
     "execution_count": 4,
     "metadata": {},
     "output_type": "execute_result"
    },
    {
     "data": {
      "image/png": "[encoded data removed]",
      "text/plain": [
       "<Figure size 432x288 with 1 Axes>"
      ]
     },
     "metadata": {
      "needs_background": "light"
     },
     "output_type": "display_data"
    }
   ],
   "source": [
    "plt.plot(s,(I1-I2)/I1)"
   ]
  },
  {
   "cell_type": "code",
   "execution_count": 13,
   "id": "adfd6986-69d1-41ec-835a-685b21cb4713",
   "metadata": {},
   "outputs": [
    {
     "data": {
      "text/plain": [
       "4.0811798385220754e-13"
      ]
     },
     "execution_count": 13,
     "metadata": {},
     "output_type": "execute_result"
    }
   ],
   "source": [
    "quad(lambda t: t**(1/4)/(1+t**2),0,np.inf)[0] - np.pi/2/np.sin(5*np.pi/8)"
   ]
  },
  {
   "cell_type": "code",
   "execution_count": 14,
   "id": "80d89c2b-0f16-402b-b5a1-3131156c8e72",
   "metadata": {},
   "outputs": [
    {
     "data": {
      "text/plain": [
       "0.9238795325112867"
      ]
     },
     "execution_count": 14,
     "metadata": {},
     "output_type": "execute_result"
    }
   ],
   "source": [
    "np.sin(5*np.pi/8)"
   ]
  },
  {
   "cell_type": "code",
   "execution_count": null,
   "id": "ded06897-3d7e-4edd-baa3-a7431cb3f0b1",
   "metadata": {},
   "outputs": [],
   "source": []
  }
 ],
 "metadata": {
  "kernelspec": {
   "display_name": "Python 3 (ipykernel)",
   "language": "python",
   "name": "python3"
  },
  "language_info": {
   "codemirror_mode": {
    "name": "ipython",
    "version": 3
   },
   "file_extension": ".py",
   "mimetype": "text/x-python",
   "name": "python",
   "nbconvert_exporter": "python",
   "pygments_lexer": "ipython3",
   "version": "3.9.17"
  }
 },
 "nbformat": 4,
 "nbformat_minor": 5
}
